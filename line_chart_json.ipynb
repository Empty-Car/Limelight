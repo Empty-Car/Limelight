{
 "cells": [
  {
   "cell_type": "code",
   "execution_count": 1,
   "metadata": {},
   "outputs": [],
   "source": [
    "import pandas as pd\n",
    "import json"
   ]
  },
  {
   "cell_type": "code",
   "execution_count": 2,
   "metadata": {},
   "outputs": [
    {
     "data": {
      "text/html": [
       "<div>\n",
       "<style scoped>\n",
       "    .dataframe tbody tr th:only-of-type {\n",
       "        vertical-align: middle;\n",
       "    }\n",
       "\n",
       "    .dataframe tbody tr th {\n",
       "        vertical-align: top;\n",
       "    }\n",
       "\n",
       "    .dataframe thead th {\n",
       "        text-align: right;\n",
       "    }\n",
       "</style>\n",
       "<table border=\"1\" class=\"dataframe\">\n",
       "  <thead>\n",
       "    <tr style=\"text-align: right;\">\n",
       "      <th></th>\n",
       "      <th>2007</th>\n",
       "      <th>2008</th>\n",
       "      <th>2009</th>\n",
       "      <th>2010</th>\n",
       "      <th>2011</th>\n",
       "      <th>2012</th>\n",
       "      <th>2013</th>\n",
       "      <th>2015</th>\n",
       "      <th>2017</th>\n",
       "      <th>2019</th>\n",
       "    </tr>\n",
       "  </thead>\n",
       "  <tbody>\n",
       "    <tr>\n",
       "      <th>전체</th>\n",
       "      <td>12.5</td>\n",
       "      <td>14.3</td>\n",
       "      <td>14.7</td>\n",
       "      <td>12.4</td>\n",
       "      <td>13.2</td>\n",
       "      <td>12.4</td>\n",
       "      <td>10.2</td>\n",
       "      <td>13.0</td>\n",
       "      <td>11.2</td>\n",
       "      <td>10.2</td>\n",
       "    </tr>\n",
       "    <tr>\n",
       "      <th>남자</th>\n",
       "      <td>8.1</td>\n",
       "      <td>10.1</td>\n",
       "      <td>10.0</td>\n",
       "      <td>7.9</td>\n",
       "      <td>10.1</td>\n",
       "      <td>8.9</td>\n",
       "      <td>6.6</td>\n",
       "      <td>9.5</td>\n",
       "      <td>9.1</td>\n",
       "      <td>8.1</td>\n",
       "    </tr>\n",
       "    <tr>\n",
       "      <th>여자</th>\n",
       "      <td>16.6</td>\n",
       "      <td>18.3</td>\n",
       "      <td>19.2</td>\n",
       "      <td>16.9</td>\n",
       "      <td>16.1</td>\n",
       "      <td>15.9</td>\n",
       "      <td>13.7</td>\n",
       "      <td>16.5</td>\n",
       "      <td>13.4</td>\n",
       "      <td>12.5</td>\n",
       "    </tr>\n",
       "    <tr>\n",
       "      <th>19-29세</th>\n",
       "      <td>9.7</td>\n",
       "      <td>12.4</td>\n",
       "      <td>13.3</td>\n",
       "      <td>11.8</td>\n",
       "      <td>13.6</td>\n",
       "      <td>9.3</td>\n",
       "      <td>10.4</td>\n",
       "      <td>14.9</td>\n",
       "      <td>13.5</td>\n",
       "      <td>13.0</td>\n",
       "    </tr>\n",
       "    <tr>\n",
       "      <th>30-39세</th>\n",
       "      <td>9.3</td>\n",
       "      <td>10.8</td>\n",
       "      <td>11.9</td>\n",
       "      <td>9.1</td>\n",
       "      <td>11.6</td>\n",
       "      <td>10.8</td>\n",
       "      <td>7.6</td>\n",
       "      <td>10.3</td>\n",
       "      <td>9.1</td>\n",
       "      <td>7.4</td>\n",
       "    </tr>\n",
       "    <tr>\n",
       "      <th>40-49세</th>\n",
       "      <td>11.7</td>\n",
       "      <td>13.4</td>\n",
       "      <td>13.4</td>\n",
       "      <td>11.0</td>\n",
       "      <td>11.4</td>\n",
       "      <td>12.9</td>\n",
       "      <td>8.3</td>\n",
       "      <td>10.8</td>\n",
       "      <td>7.8</td>\n",
       "      <td>8.9</td>\n",
       "    </tr>\n",
       "    <tr>\n",
       "      <th>50-59세</th>\n",
       "      <td>13.8</td>\n",
       "      <td>17.4</td>\n",
       "      <td>17.8</td>\n",
       "      <td>16.9</td>\n",
       "      <td>15.2</td>\n",
       "      <td>15.0</td>\n",
       "      <td>13.1</td>\n",
       "      <td>13.1</td>\n",
       "      <td>11.0</td>\n",
       "      <td>10.6</td>\n",
       "    </tr>\n",
       "    <tr>\n",
       "      <th>60-69세</th>\n",
       "      <td>20.4</td>\n",
       "      <td>19.2</td>\n",
       "      <td>17.9</td>\n",
       "      <td>15.5</td>\n",
       "      <td>15.0</td>\n",
       "      <td>15.1</td>\n",
       "      <td>12.4</td>\n",
       "      <td>18.2</td>\n",
       "      <td>14.7</td>\n",
       "      <td>11.0</td>\n",
       "    </tr>\n",
       "    <tr>\n",
       "      <th>70세 이상</th>\n",
       "      <td>20.2</td>\n",
       "      <td>21.6</td>\n",
       "      <td>21.5</td>\n",
       "      <td>16.9</td>\n",
       "      <td>15.9</td>\n",
       "      <td>17.9</td>\n",
       "      <td>16.1</td>\n",
       "      <td>15.2</td>\n",
       "      <td>17.3</td>\n",
       "      <td>13.1</td>\n",
       "    </tr>\n",
       "  </tbody>\n",
       "</table>\n",
       "</div>"
      ],
      "text/plain": [
       "        2007  2008  2009  2010  2011  2012  2013  2015  2017  2019\n",
       "전체      12.5  14.3  14.7  12.4  13.2  12.4  10.2  13.0  11.2  10.2\n",
       "남자       8.1  10.1  10.0   7.9  10.1   8.9   6.6   9.5   9.1   8.1\n",
       "여자      16.6  18.3  19.2  16.9  16.1  15.9  13.7  16.5  13.4  12.5\n",
       "19-29세   9.7  12.4  13.3  11.8  13.6   9.3  10.4  14.9  13.5  13.0\n",
       "30-39세   9.3  10.8  11.9   9.1  11.6  10.8   7.6  10.3   9.1   7.4\n",
       "40-49세  11.7  13.4  13.4  11.0  11.4  12.9   8.3  10.8   7.8   8.9\n",
       "50-59세  13.8  17.4  17.8  16.9  15.2  15.0  13.1  13.1  11.0  10.6\n",
       "60-69세  20.4  19.2  17.9  15.5  15.0  15.1  12.4  18.2  14.7  11.0\n",
       "70세 이상  20.2  21.6  21.5  16.9  15.9  17.9  16.1  15.2  17.3  13.1"
      ]
     },
     "execution_count": 2,
     "metadata": {},
     "output_type": "execute_result"
    }
   ],
   "source": [
    "# df = pd.read_csv(\"./dataset/Depression_experience_rate.csv\", encoding = \"utf-8\")\n",
    "df = pd.read_csv(\"./dataset/Depression_experience_rate.csv\", engine=\"python\", encoding=\"utf-8\", index_col=0)\n",
    "df"
   ]
  },
  {
   "cell_type": "code",
   "execution_count": 6,
   "metadata": {},
   "outputs": [
    {
     "data": {
      "text/plain": [
       "'[{\"x\": \"2007\", \"y\": \"12.5\"}, {\"x\": \"2008\", \"y\": \"14.3\"}, {\"x\": \"2009\", \"y\": \"14.7\"}, {\"x\": \"2010\", \"y\": \"12.4\"}, {\"x\": \"2011\", \"y\": \"13.2\"}, {\"x\": \"2012\", \"y\": \"12.4\"}, {\"x\": \"2013\", \"y\": \"10.2\"}, {\"x\": \"2015\", \"y\": \"13.0\"}, {\"x\": \"2017\", \"y\": \"11.2\"}, {\"x\": \"2019\", \"y\": \"10.2\"}]'"
      ]
     },
     "execution_count": 6,
     "metadata": {},
     "output_type": "execute_result"
    }
   ],
   "source": [
    "data = [{\"x\":a, \"y\":str(df[a]['전체'])} for a in df.columns]\n",
    "dumps_data = json.dumps(data)\n",
    "dumps_data"
   ]
  },
  {
   "cell_type": "code",
   "execution_count": 4,
   "metadata": {},
   "outputs": [
    {
     "data": {
      "text/plain": [
       "'{\"id\": \"experience rate\", \"color\":\"hsl(286, 70%, 50%)\", \"data\":[{\"x\": \"2007\", \"y\": \"12.5%\"}, {\"x\": \"2008\", \"y\": \"14.3%\"}, {\"x\": \"2009\", \"y\": \"14.7%\"}, {\"x\": \"2010\", \"y\": \"12.4%\"}, {\"x\": \"2011\", \"y\": \"13.2%\"}, {\"x\": \"2012\", \"y\": \"12.4%\"}, {\"x\": \"2013\", \"y\": \"10.2%\"}, {\"x\": \"2015\", \"y\": \"13.0%\"}, {\"x\": \"2017\", \"y\": \"11.2%\"}, {\"x\": \"2019\", \"y\": \"10.2%\"}]}'"
      ]
     },
     "execution_count": 4,
     "metadata": {},
     "output_type": "execute_result"
    }
   ],
   "source": [
    "nivo_data_string = f'{{\"id\": \"experience rate\", \"color\":\"hsl(286, 70%, 50%)\", \"data\":{dumps_data}}}'\n",
    "nivo_data_string"
   ]
  },
  {
   "cell_type": "code",
   "execution_count": 5,
   "metadata": {},
   "outputs": [],
   "source": [
    "with open(\"line_chart.json\", 'w') as outfile:\n",
    "  outfile.write(nivo_data_string)"
   ]
  },
  {
   "cell_type": "code",
   "execution_count": null,
   "metadata": {},
   "outputs": [],
   "source": []
  }
 ],
 "metadata": {
  "interpreter": {
   "hash": "58e635aaf41133f1664b739dc20594071e04bcd8ebc362e95680a95eca0a86d1"
  },
  "kernelspec": {
   "display_name": "Python 3.9.6 ('venv': venv)",
   "language": "python",
   "name": "python3"
  },
  "language_info": {
   "codemirror_mode": {
    "name": "ipython",
    "version": 3
   },
   "file_extension": ".py",
   "mimetype": "text/x-python",
   "name": "python",
   "nbconvert_exporter": "python",
   "pygments_lexer": "ipython3",
   "version": "3.9.6"
  },
  "orig_nbformat": 4
 },
 "nbformat": 4,
 "nbformat_minor": 2
}
